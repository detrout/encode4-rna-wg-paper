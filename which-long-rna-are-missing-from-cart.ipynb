{
 "cells": [
  {
   "cell_type": "markdown",
   "id": "stainless-mining",
   "metadata": {},
   "source": [
    "# Introduction"
   ]
  },
  {
   "cell_type": "markdown",
   "id": "interested-macro",
   "metadata": {},
   "source": [
    "Ariel found that there are 98 long rna seqs on the portal, but there's only 95 in the cart."
   ]
  },
  {
   "cell_type": "code",
   "execution_count": 2,
   "id": "nominated-bouquet",
   "metadata": {},
   "outputs": [
    {
     "name": "stdout",
     "output_type": "stream",
     "text": [
      "Collecting encoded_client\n",
      "  Using cached encoded_client-0.2.0-py3-none-any.whl (84 kB)\n",
      "Requirement already satisfied: requests in /usr/lib/python3/dist-packages (from encoded_client) (2.25.1)\n",
      "Requirement already satisfied: jsonschema in /usr/lib/python3/dist-packages (from encoded_client) (3.2.0)\n",
      "Requirement already satisfied: awscli in /usr/lib/python3/dist-packages (from encoded_client) (1.19.1)\n",
      "Requirement already satisfied: pandas in /usr/lib/python3/dist-packages (from encoded_client) (1.1.5)\n",
      "Installing collected packages: encoded-client\n",
      "Successfully installed encoded-client-0.2.0\n"
     ]
    }
   ],
   "source": [
    "%run -m pip install encoded_client"
   ]
  },
  {
   "cell_type": "code",
   "execution_count": 6,
   "id": "excess-metropolitan",
   "metadata": {},
   "outputs": [],
   "source": [
    "from encoded_client.encoded import ENCODED\n",
    "from tqdm import tqdm"
   ]
  },
  {
   "cell_type": "code",
   "execution_count": 4,
   "id": "proud-baseball",
   "metadata": {},
   "outputs": [],
   "source": [
    "server = ENCODED(\"www.encodeproject.org\")"
   ]
  },
  {
   "cell_type": "code",
   "execution_count": 7,
   "id": "satisfied-ecuador",
   "metadata": {},
   "outputs": [
    {
     "name": "stdout",
     "output_type": "stream",
     "text": [
      "requesting url: https://www.encodeproject.org/carts/829d339c-913c-4773-8001-80130796a367/\n"
     ]
    },
    {
     "name": "stderr",
     "output_type": "stream",
     "text": [
      "100%|██████████| 95/95 [00:00<00:00, 406590.69it/s]\n"
     ]
    }
   ],
   "source": [
    "cart_url = \"https://www.encodeproject.org/carts/829d339c-913c-4773-8001-80130796a367/\"\n",
    "cart = server.get_json(cart_url)\n",
    "\n",
    "cart_experiments = []\n",
    "for experiment_id in tqdm(cart[\"elements\"]):\n",
    "    cart_experiments.append(experiment_id)"
   ]
  },
  {
   "cell_type": "code",
   "execution_count": 9,
   "id": "color-galaxy",
   "metadata": {},
   "outputs": [
    {
     "name": "stdout",
     "output_type": "stream",
     "text": [
      "requesting url: https://www.encodeproject.org/search/?type=Experiment&control_type!=*&status=released&perturbed=false&assay_title=long+read+RNA-seq&lab.title=Ali+Mortazavi%2C+UCI&replicates.library.biosample.donor.organism.scientific_name=Homo+sapiens\n"
     ]
    },
    {
     "name": "stderr",
     "output_type": "stream",
     "text": [
      "100%|██████████| 98/98 [00:00<00:00, 361196.65it/s]"
     ]
    },
    {
     "name": "stdout",
     "output_type": "stream",
     "text": [
      "98\n"
     ]
    },
    {
     "name": "stderr",
     "output_type": "stream",
     "text": [
      "\n"
     ]
    }
   ],
   "source": [
    "human_lr_query = \"https://www.encodeproject.org/search/?type=Experiment&control_type!=*&status=released&perturbed=false&assay_title=long+read+RNA-seq&lab.title=Ali+Mortazavi%2C+UCI&replicates.library.biosample.donor.organism.scientific_name=Homo+sapiens\"\n",
    "\n",
    "human_lr_graph = server.get_json(human_lr_query)\n",
    "\n",
    "human_experiment_ids = []\n",
    "for row in tqdm(human_lr_graph[\"@graph\"]):\n",
    "    if \"Experiment\" in row[\"@type\"]:\n",
    "        human_experiment_ids.append(row[\"@id\"])\n",
    "print(len(human_experiment_ids))"
   ]
  },
  {
   "cell_type": "code",
   "execution_count": 12,
   "id": "opening-campaign",
   "metadata": {},
   "outputs": [],
   "source": [
    "missing = set(human_experiment_ids).difference(cart_experiments)"
   ]
  },
  {
   "cell_type": "code",
   "execution_count": 17,
   "id": "material-swedish",
   "metadata": {},
   "outputs": [
    {
     "name": "stdout",
     "output_type": "stream",
     "text": [
      "requesting url: https://www.encodeproject.org/experiments/ENCSR368UNC/\n",
      "/experiments/ENCSR368UNC/  ONT dRNA of GM12878\n",
      "requesting url: https://www.encodeproject.org/experiments/ENCSR724HQB/\n",
      "/experiments/ENCSR724HQB/  ONT dRNA of HepG2\n",
      "requesting url: https://www.encodeproject.org/experiments/ENCSR917JIA/\n",
      "/experiments/ENCSR917JIA/  OnT dRNA of K562\n"
     ]
    }
   ],
   "source": [
    "for experiment_id in missing:\n",
    "    experiment = server.get_json(experiment_id)\n",
    "    print(experiment_id, experiment[\"simple_biosample_summary\"], experiment.get(\"description\"))"
   ]
  },
  {
   "cell_type": "markdown",
   "id": "gentle-warren",
   "metadata": {},
   "source": [
    "# Conclusion"
   ]
  },
  {
   "cell_type": "markdown",
   "id": "governmental-olympus",
   "metadata": {},
   "source": [
    "We're not using the oxford nanopore long reads for this analysis."
   ]
  },
  {
   "cell_type": "code",
   "execution_count": null,
   "id": "functioning-commercial",
   "metadata": {},
   "outputs": [],
   "source": []
  }
 ],
 "metadata": {
  "kernelspec": {
   "display_name": "Python 3",
   "language": "python",
   "name": "python3"
  },
  "language_info": {
   "codemirror_mode": {
    "name": "ipython",
    "version": 3
   },
   "file_extension": ".py",
   "mimetype": "text/x-python",
   "name": "python",
   "nbconvert_exporter": "python",
   "pygments_lexer": "ipython3",
   "version": "3.9.2"
  }
 },
 "nbformat": 4,
 "nbformat_minor": 5
}
