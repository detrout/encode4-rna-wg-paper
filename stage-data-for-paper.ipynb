{
 "cells": [
  {
   "cell_type": "markdown",
   "id": "prostate-benchmark",
   "metadata": {},
   "source": [
    "# Introduction"
   ]
  },
  {
   "cell_type": "markdown",
   "id": "affected-durham",
   "metadata": {},
   "source": [
    "Step one in replicating the plots is to grab the data."
   ]
  },
  {
   "cell_type": "code",
   "execution_count": 1,
   "id": "brown-chapel",
   "metadata": {},
   "outputs": [
    {
     "name": "stdout",
     "output_type": "stream",
     "text": [
      "Requirement already satisfied: encoded_client in /woldlab/loxcyc/home/diane/proj/encoded_client (0.1.1.dev13+g4874394.d20220622)\n",
      "Requirement already satisfied: awscli in /usr/local/lib/python3.9/dist-packages (from encoded_client) (1.22.101)\n",
      "Requirement already satisfied: jsonschema in /usr/lib/python3/dist-packages (from encoded_client) (3.2.0)\n",
      "Requirement already satisfied: pandas in /usr/lib/python3/dist-packages (from encoded_client) (1.1.5)\n",
      "Requirement already satisfied: requests in /usr/lib/python3/dist-packages (from encoded_client) (2.25.1)\n",
      "Requirement already satisfied: colorama<0.4.4,>=0.2.5 in /usr/local/lib/python3.9/dist-packages (from awscli->encoded_client) (0.4.3)\n",
      "Requirement already satisfied: PyYAML<5.5,>=3.10 in /woldlab/loxcyc/home/diane/.local/lib/python3.9/site-packages (from awscli->encoded_client) (5.4.1)\n",
      "Requirement already satisfied: s3transfer<0.6.0,>=0.5.0 in /usr/local/lib/python3.9/dist-packages (from awscli->encoded_client) (0.5.2)\n",
      "Requirement already satisfied: botocore==1.24.46 in /usr/local/lib/python3.9/dist-packages (from awscli->encoded_client) (1.24.46)\n",
      "Requirement already satisfied: rsa<4.8,>=3.1.2 in /usr/lib/python3/dist-packages (from awscli->encoded_client) (4.0)\n",
      "Requirement already satisfied: docutils<0.16,>=0.10 in /usr/local/lib/python3.9/dist-packages (from awscli->encoded_client) (0.15.2)\n",
      "Requirement already satisfied: urllib3<1.27,>=1.25.4 in /usr/lib/python3/dist-packages (from botocore==1.24.46->awscli->encoded_client) (1.26.5)\n",
      "Requirement already satisfied: jmespath<2.0.0,>=0.7.1 in /usr/lib/python3/dist-packages (from botocore==1.24.46->awscli->encoded_client) (0.10.0)\n",
      "Requirement already satisfied: python-dateutil<3.0.0,>=2.1 in /usr/lib/python3/dist-packages (from botocore==1.24.46->awscli->encoded_client) (2.8.1)\n"
     ]
    }
   ],
   "source": [
    "import sys\n",
    "\n",
    "!$sys.executable -m pip install --user encoded_client"
   ]
  },
  {
   "cell_type": "code",
   "execution_count": 2,
   "id": "sexual-designer",
   "metadata": {},
   "outputs": [],
   "source": [
    "from encoded_client.encoded import ENCODED\n",
    "import os\n",
    "from pathlib import Path\n",
    "import pandas\n",
    "import shutil\n",
    "from tqdm import tqdm\n",
    "\n",
    "server = ENCODED(\"www.encodeproject.org\")"
   ]
  },
  {
   "cell_type": "code",
   "execution_count": 3,
   "id": "bound-beginning",
   "metadata": {},
   "outputs": [],
   "source": [
    "cart_url = \"https://www.encodeproject.org/carts/829d339c-913c-4773-8001-80130796a367/\""
   ]
  },
  {
   "cell_type": "code",
   "execution_count": 4,
   "id": "wireless-publisher",
   "metadata": {},
   "outputs": [],
   "source": [
    "server.get_response?"
   ]
  },
  {
   "cell_type": "code",
   "execution_count": 5,
   "id": "accepted-denial",
   "metadata": {},
   "outputs": [],
   "source": [
    "def get_genome_bam(experiment_id, cache_dir=None):\n",
    "    experiment = server.get_json(experiment_id)\n",
    "\n",
    "    metadata = []\n",
    "    default_analysis = experiment[\"default_analysis\"]\n",
    "    for f in experiment[\"files\"]:\n",
    "        analyses = [x[\"@id\"] for x in f[\"analyses\"]]\n",
    "        # this check only applies to processed data not reads (default_analysis in analyses and)\n",
    "        if f[\"output_type\"] in (\"reads\", \"unfiltered alignments\"):\n",
    "            if f[\"output_type\"] == \"unfiltered alignments\" and not default_analysis in analyses:\n",
    "                # skip alignments for older analyses.\n",
    "                continue\n",
    "            reps = f[\"technical_replicates\"]\n",
    "            assert len(reps) == 1\n",
    "            reps = reps[0]\n",
    "            \n",
    "            extension = {\n",
    "                \"fastq\": \".fastq.gz\",\n",
    "                \"bam\": \".bam\",\n",
    "            }[f[\"file_format\"]]\n",
    "            target_name = \"{}_{}_{}_{}{}\".format(experiment[\"accession\"], reps, f[\"accession\"], f[\"output_type\"], extension)\n",
    "            if cache_dir is None:\n",
    "                cache_dir = os.getcwd()\n",
    "            cache_dir = Path(cache_dir)\n",
    "            target = cache_dir / target_name\n",
    "            \n",
    "            if not target.exists() or target.lstat().st_size != f[\"file_size\"]:\n",
    "                with server.get_response(f[\"href\"], stream=True) as response:\n",
    "                    with open(target, 'wb') as outstream:\n",
    "                        shutil.copyfileobj(response.raw, outstream)\n",
    "\n",
    "            metadata.append({\n",
    "                \"experiment\": experiment[\"accession\"],\n",
    "                \"description\": experiment[\"description\"],\n",
    "                \"simple_biosample_summary\": f[\"simple_biosample_summary\"],\n",
    "                \"file\": f[\"accession\"],\n",
    "                \"output_type\": f[\"output_type\"],\n",
    "                \"file_size\": f[\"file_size\"],\n",
    "                \"bio_rep\": f[\"biological_replicates\"][0],\n",
    "                \"tech_rep\": f[\"technical_replicates\"][0],\n",
    "                \"target\": target,\n",
    "            })\n",
    "            \n",
    "    return metadata\n",
    "        \n",
    "#get_genome_bam(\"/experiments/ENCSR690QHM/\")"
   ]
  },
  {
   "cell_type": "code",
   "execution_count": 6,
   "id": "exposed-buddy",
   "metadata": {
    "scrolled": false
   },
   "outputs": [
    {
     "name": "stderr",
     "output_type": "stream",
     "text": [
      "100%|██████████| 95/95 [1:14:53<00:00, 47.30s/it]\n"
     ]
    }
   ],
   "source": [
    "cache_dir = Path(\"cache\")\n",
    "cache_dir.mkdir(exist_ok=True)\n",
    "\n",
    "cart = server.get_json(cart_url)\n",
    "\n",
    "metadata = []\n",
    "for experiment_id in tqdm(cart[\"elements\"]):\n",
    "    metadata.extend(get_genome_bam(experiment_id, cache_dir))"
   ]
  },
  {
   "cell_type": "code",
   "execution_count": 7,
   "id": "prime-notification",
   "metadata": {},
   "outputs": [],
   "source": [
    "downloaded_data = pandas.DataFrame(metadata)\n",
    "downloaded_data.to_csv(\"cached_experiments.tsv\", sep=\"\\t\", index=False)"
   ]
  },
  {
   "cell_type": "code",
   "execution_count": 8,
   "id": "injured-scholar",
   "metadata": {},
   "outputs": [],
   "source": [
    "#for row in tqdm(metadata):\n",
    "#    index = Path(str(row[\"target\"]) + \".bai\")\n",
    "#    target = str(row[\"target\"])\n",
    "#    if not index.exists():\n",
    "#        !samtools index -@ 12 $target"
   ]
  },
  {
   "cell_type": "markdown",
   "id": "exposed-driver",
   "metadata": {},
   "source": [
    "# well oops. I named it wrong ..bam"
   ]
  },
  {
   "cell_type": "code",
   "execution_count": 9,
   "id": "optimum-variable",
   "metadata": {},
   "outputs": [
    {
     "name": "stderr",
     "output_type": "stream",
     "text": [
      "0it [00:00, ?it/s]\n"
     ]
    }
   ],
   "source": [
    "for row in tqdm([]): #metadata):\n",
    "    orig_target = row[\"target\"]\n",
    "    if orig_target.name.endswith(\"..bam\"):\n",
    "        new_target = str(orig_target)\n",
    "        new_target = new_target.replace(\"..bam\", \".bam\")\n",
    "        if new_target != orig_target:\n",
    "            #print(\"Rename {} {}\".format(orig_target, new_target))\n",
    "            orig_target.rename(new_target)\n",
    "            row[\"target\"] = Path(new_target)\n",
    "        \n",
    "        "
   ]
  },
  {
   "cell_type": "code",
   "execution_count": 10,
   "id": "explicit-liechtenstein",
   "metadata": {},
   "outputs": [
    {
     "name": "stdout",
     "output_type": "stream",
     "text": [
      "Object `p.rename` not found.\n"
     ]
    }
   ],
   "source": []
  },
  {
   "cell_type": "markdown",
   "id": "laden-wales",
   "metadata": {},
   "source": [
    "# Well oops I downloaded obsolete files."
   ]
  },
  {
   "cell_type": "code",
   "execution_count": 16,
   "id": "suspended-departure",
   "metadata": {},
   "outputs": [
    {
     "name": "stdout",
     "output_type": "stream",
     "text": [
      "Delete cache/ENCSR589FUJ_1_1_ENCFF965OXS_unfiltered alignments.bam\n",
      "Delete cache/ENCSR293MOX_1_1_ENCFF483BXP_unfiltered alignments.bam\n",
      "Delete cache/ENCSR902GAF_1_1_ENCFF049KQS_unfiltered alignments.bam\n",
      "Delete cache/ENCSR589FUJ_2_1_ENCFF533IBY_unfiltered alignments.bam\n",
      "Delete cache/ENCSR902GAF_3_1_ENCFF203MFP_unfiltered alignments.bam\n",
      "Delete cache/ENCSR902GAF_2_1_ENCFF825CMK_unfiltered alignments.bam\n",
      "Deleted 6 of 282 files\n"
     ]
    }
   ],
   "source": [
    "expected_targets = set(downloaded_data[\"target\"])\n",
    "total_files = 0\n",
    "deleted_files = 0\n",
    "for name in cache_dir.glob(\"*\"):\n",
    "    total_files += 1\n",
    "    if name not in expected_targets:\n",
    "        deleted_files += 1\n",
    "        print(\"Delete {}\".format(name))\n",
    "        name.unlink()\n",
    "        \n",
    "        \n",
    "print(\"Deleted {} of {} files\".format(deleted_files, total_files))"
   ]
  },
  {
   "cell_type": "code",
   "execution_count": null,
   "id": "forward-ground",
   "metadata": {},
   "outputs": [],
   "source": []
  }
 ],
 "metadata": {
  "kernelspec": {
   "display_name": "Python 3",
   "language": "python",
   "name": "python3"
  },
  "language_info": {
   "codemirror_mode": {
    "name": "ipython",
    "version": 3
   },
   "file_extension": ".py",
   "mimetype": "text/x-python",
   "name": "python",
   "nbconvert_exporter": "python",
   "pygments_lexer": "ipython3",
   "version": "3.9.2"
  }
 },
 "nbformat": 4,
 "nbformat_minor": 5
}
