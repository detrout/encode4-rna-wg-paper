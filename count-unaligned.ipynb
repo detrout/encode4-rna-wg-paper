{
 "cells": [
  {
   "cell_type": "markdown",
   "id": "alien-macintosh",
   "metadata": {},
   "source": [
    "# Introduction"
   ]
  },
  {
   "cell_type": "markdown",
   "id": "dress-stock",
   "metadata": {},
   "source": [
    "Now that we've downloaded the data can we generate the plots? Fairlie's looking for A, B, and the log2 aligned plot from \n",
    "\n",
    "<img src=\"panel-to-replicate.png\" width=\"60%\" />"
   ]
  },
  {
   "cell_type": "code",
   "execution_count": null,
   "id": "internal-temperature",
   "metadata": {},
   "outputs": [],
   "source": []
  },
  {
   "cell_type": "code",
   "execution_count": 1,
   "id": "weird-charles",
   "metadata": {},
   "outputs": [],
   "source": [
    "from Bio import SeqIO\n",
    "from matplotlib import pyplot\n",
    "import numpy\n",
    "from pathlib import Path\n",
    "import pandas\n",
    "import pysam\n",
    "from tqdm import tqdm\n",
    "from xopen import xopen"
   ]
  },
  {
   "cell_type": "code",
   "execution_count": 2,
   "id": "silent-weather",
   "metadata": {},
   "outputs": [],
   "source": [
    "experiments = pandas.read_csv(\"cached_experiments.tsv\", sep=\"\\t\")"
   ]
  },
  {
   "cell_type": "code",
   "execution_count": 3,
   "id": "ambient-benefit",
   "metadata": {},
   "outputs": [
    {
     "data": {
      "text/plain": [
       "'cache/ENCSR293MOX_1_1_ENCFF318SKH_reads.fastq.gz'"
      ]
     },
     "execution_count": 3,
     "metadata": {},
     "output_type": "execute_result"
    }
   ],
   "source": [
    "target = experiments.iloc[0][\"target\"]\n",
    "target"
   ]
  },
  {
   "cell_type": "code",
   "execution_count": 4,
   "id": "appreciated-classification",
   "metadata": {},
   "outputs": [],
   "source": [
    "def score_unaligned_reads(filename):\n",
    "    with pysam.AlignmentFile(filename, \"rb\") as inbam:\n",
    "        unaligned_reads = 0\n",
    "        unaligned_query_len = []\n",
    "\n",
    "        for read in inbam:\n",
    "            if read.is_unmapped:\n",
    "                unaligned_reads += 1\n",
    "                unaligned_query_len.append(read.query_length)\n",
    "\n",
    "\n",
    "        return {\n",
    "            \"unaligned_reads\": len(unaligned_query_len),\n",
    "            \"query_len_median\": numpy.median(unaligned_query_len),\n",
    "            \"query_len\": unaligned_query_len,\n",
    "        }\n",
    "\n",
    "#score_aligned_reads(target)"
   ]
  },
  {
   "cell_type": "code",
   "execution_count": 5,
   "id": "imposed-voluntary",
   "metadata": {},
   "outputs": [],
   "source": [
    "def score_fastq_reads(filename):\n",
    "    read_len = []\n",
    "    with xopen(filename, \"rt\") as instream:\n",
    "        for record in SeqIO.parse(instream, \"fastq\"):\n",
    "            read_len.append(len(record))\n",
    "    \n",
    "    return {\n",
    "        \"raw_reads\": len(read_len),\n",
    "        \"read_len_median\": numpy.median(read_len),\n",
    "        \"read_len\": read_len,\n",
    "    }\n",
    "\n",
    "#score_fastq_reads(\"cache/ENCSR293MOX_1_1_ENCFF318SKH_reads.fastq.gz\")\n"
   ]
  },
  {
   "cell_type": "code",
   "execution_count": 6,
   "id": "quality-mobile",
   "metadata": {},
   "outputs": [
    {
     "name": "stderr",
     "output_type": "stream",
     "text": [
      "100%|██████████| 276/276 [9:41:40<00:00, 126.45s/it]   \n"
     ]
    }
   ],
   "source": [
    "counts = {}\n",
    "for i, row in tqdm(experiments.iterrows(), total=experiments.shape[0]):\n",
    "    name = \"{}_{}\".format(row[\"experiment\"], row[\"tech_rep\"])\n",
    "    if row.output_type == \"unfiltered alignments\":\n",
    "        result = score_unaligned_reads(row[\"target\"])\n",
    "    elif row.output_type == \"reads\":\n",
    "        result = score_fastq_reads(row[\"target\"])\n",
    "    else:\n",
    "        raise ValueError(\"Unrecognized output type {} in row {}\".format(row.output_type, i))\n",
    "\n",
    "    counts.setdefault(name, {}).update(result)"
   ]
  },
  {
   "cell_type": "code",
   "execution_count": 7,
   "id": "palestinian-bronze",
   "metadata": {},
   "outputs": [
    {
     "data": {
      "text/plain": [
       "dict_keys(['ENCSR293MOX_1_1', 'ENCSR081NRO_1_1', 'ENCSR257JBF_1_1', 'ENCSR257JBF_1_2', 'ENCSR838WFC_1_1', 'ENCSR838WFC_2_1', 'ENCSR902GAF_3_1', 'ENCSR902GAF_1_1', 'ENCSR902GAF_2_1', 'ENCSR181CES_1_1', 'ENCSR676IWT_1_1', 'ENCSR676IWT_1_2', 'ENCSR995WKW_1_1', 'ENCSR904KAT_1_1', 'ENCSR904KAT_2_1', 'ENCSR113MEY_1_1', 'ENCSR589FUJ_2_1', 'ENCSR589FUJ_1_1', 'ENCSR388RWE_1_1', 'ENCSR194YUY_1_1', 'ENCSR706ANY_1_1', 'ENCSR706ANY_2_1', 'ENCSR706ANY_3_1', 'ENCSR706ANY_4_1', 'ENCSR634AKC_1_1', 'ENCSR127HKN_1_1', 'ENCSR127HKN_2_1', 'ENCSR127HKN_3_1', 'ENCSR130CIK_1_1', 'ENCSR130CIK_2_1', 'ENCSR044ARQ_1_1', 'ENCSR044ARQ_2_1', 'ENCSR296PQZ_1_1', 'ENCSR296PQZ_2_1', 'ENCSR810XLL_1_1', 'ENCSR526TQU_1_1', 'ENCSR947JHA_1_1', 'ENCSR962BVU_1_1', 'ENCSR530BOC_1_1', 'ENCSR530BOC_2_1', 'ENCSR271KEJ_1_1', 'ENCSR271KEJ_2_1', 'ENCSR271KEJ_3_1', 'ENCSR887LTD_1_1', 'ENCSR887LTD_2_1', 'ENCSR983KDL_1_1', 'ENCSR983KDL_2_1', 'ENCSR148IIG_1_1', 'ENCSR148IIG_1_2', 'ENCSR834DQL_1_1', 'ENCSR834DQL_2_1', 'ENCSR056MYH_1_1', 'ENCSR056MYH_2_1', 'ENCSR071IHY_1_1', 'ENCSR071IHY_2_1', 'ENCSR507JOF_1_1', 'ENCSR507JOF_2_1', 'ENCSR507JOF_3_1', 'ENCSR435UUS_1_1', 'ENCSR563RLX_1_1', 'ENCSR803QWH_1_1', 'ENCSR549ELD_1_1', 'ENCSR432YKA_1_1', 'ENCSR261GOA_1_1', 'ENCSR700EBI_1_1', 'ENCSR470HYQ_1_1', 'ENCSR470HYQ_2_1', 'ENCSR470HYQ_3_1', 'ENCSR994YZY_1_1', 'ENCSR777CCI_1_1', 'ENCSR323XND_1_1', 'ENCSR803XXZ_1_1', 'ENCSR786FLO_1_1', 'ENCSR425HFS_1_1', 'ENCSR782LGT_1_1', 'ENCSR997RFW_1_1', 'ENCSR984OAE_1_1', 'ENCSR426KOP_1_1', 'ENCSR450GAR_1_1', 'ENCSR657HJW_1_1', 'ENCSR424QFN_1_1', 'ENCSR096QUP_1_1', 'ENCSR553SVP_1_1', 'ENCSR514YQN_1_1', 'ENCSR575LWI_1_1', 'ENCSR477HHG_1_1', 'ENCSR899GAP_1_1', 'ENCSR138TAS_1_1', 'ENCSR507WZC_1_1', 'ENCSR746ITG_1_1', 'ENCSR728TXV_1_1', 'ENCSR853YZN_1_1', 'ENCSR648QZP_1_1', 'ENCSR243DYK_1_1', 'ENCSR986WKB_1_1', 'ENCSR700XDQ_1_1', 'ENCSR591OZR_1_1', 'ENCSR587WPR_1_1', 'ENCSR329ZQG_1_1', 'ENCSR998KIZ_1_1', 'ENCSR998KIZ_2_1', 'ENCSR687RWI_1_1', 'ENCSR687RWI_2_1', 'ENCSR583KCB_1_1', 'ENCSR583KCB_2_1', 'ENCSR989ZYL_1_1', 'ENCSR989ZYL_2_1', 'ENCSR930GRQ_1_1', 'ENCSR930GRQ_2_1', 'ENCSR583KAF_1_1', 'ENCSR583KAF_2_1', 'ENCSR398SKD_1_1', 'ENCSR398SKD_2_1', 'ENCSR580IDG_1_1', 'ENCSR580IDG_2_1', 'ENCSR278ZPI_1_1', 'ENCSR278ZPI_2_1', 'ENCSR813UIT_1_1', 'ENCSR813UIT_2_1', 'ENCSR700SUP_1_1', 'ENCSR700SUP_2_1', 'ENCSR916JDV_1_1', 'ENCSR916JDV_2_1', 'ENCSR546DFO_1_1', 'ENCSR546DFO_2_1', 'ENCSR121FDE_1_1', 'ENCSR121FDE_2_1', 'ENCSR159ICU_1_1', 'ENCSR159ICU_2_1', 'ENCSR697ASE_1_1', 'ENCSR205QMF_1_1', 'ENCSR169YNI_1_1', 'ENCSR094NFM_1_1', 'ENCSR463IDK_1_1', 'ENCSR316ZTD_1_1', 'ENCSR462COR_1_1', 'ENCSR257YUB_1_1', 'ENCSR690QHM_1_1'])"
      ]
     },
     "execution_count": 7,
     "metadata": {},
     "output_type": "execute_result"
    }
   ],
   "source": [
    "counts.keys()"
   ]
  },
  {
   "cell_type": "code",
   "execution_count": 8,
   "id": "owned-major",
   "metadata": {},
   "outputs": [
    {
     "data": {
      "text/plain": [
       "dict_keys(['raw_reads', 'read_len_median', 'read_len', 'unaligned_reads', 'query_len_median', 'query_len'])"
      ]
     },
     "execution_count": 8,
     "metadata": {},
     "output_type": "execute_result"
    }
   ],
   "source": [
    "counts[\"ENCSR293MOX_1_1\"].keys()"
   ]
  },
  {
   "cell_type": "code",
   "execution_count": 9,
   "id": "partial-logan",
   "metadata": {},
   "outputs": [],
   "source": [
    "array_attributes = [\"read_len\", \"query_len\", \"positions_len\"]\n",
    "lengths = {}\n",
    "\n",
    "medians = {}\n",
    "for name in counts:\n",
    "    for k in counts[name]:\n",
    "        if k in array_attributes:\n",
    "            lengths[(k, name)] = counts[name][k]\n",
    "        else:\n",
    "            medians.setdefault(k, {})[name] = counts[name][k]\n",
    "\n",
    "#various_counts = pandas.DataFrame({k: count[k] for k in count if k not in array_attributes}).T"
   ]
  },
  {
   "cell_type": "markdown",
   "id": "similar-daily",
   "metadata": {},
   "source": [
    "Table of just has the counts, and not the list of every read"
   ]
  },
  {
   "cell_type": "code",
   "execution_count": 10,
   "id": "unnecessary-gospel",
   "metadata": {},
   "outputs": [
    {
     "data": {
      "text/html": [
       "<div>\n",
       "<style scoped>\n",
       "    .dataframe tbody tr th:only-of-type {\n",
       "        vertical-align: middle;\n",
       "    }\n",
       "\n",
       "    .dataframe tbody tr th {\n",
       "        vertical-align: top;\n",
       "    }\n",
       "\n",
       "    .dataframe thead th {\n",
       "        text-align: right;\n",
       "    }\n",
       "</style>\n",
       "<table border=\"1\" class=\"dataframe\">\n",
       "  <thead>\n",
       "    <tr style=\"text-align: right;\">\n",
       "      <th></th>\n",
       "      <th>raw_reads</th>\n",
       "      <th>read_len_median</th>\n",
       "      <th>unaligned_reads</th>\n",
       "      <th>query_len_median</th>\n",
       "    </tr>\n",
       "  </thead>\n",
       "  <tbody>\n",
       "    <tr>\n",
       "      <th>ENCSR293MOX_1_1</th>\n",
       "      <td>690170</td>\n",
       "      <td>912.0</td>\n",
       "      <td>7030</td>\n",
       "      <td>533.0</td>\n",
       "    </tr>\n",
       "    <tr>\n",
       "      <th>ENCSR081NRO_1_1</th>\n",
       "      <td>856966</td>\n",
       "      <td>1240.0</td>\n",
       "      <td>2026</td>\n",
       "      <td>576.0</td>\n",
       "    </tr>\n",
       "    <tr>\n",
       "      <th>ENCSR257JBF_1_1</th>\n",
       "      <td>722117</td>\n",
       "      <td>1404.0</td>\n",
       "      <td>7019</td>\n",
       "      <td>992.0</td>\n",
       "    </tr>\n",
       "    <tr>\n",
       "      <th>ENCSR257JBF_1_2</th>\n",
       "      <td>775345</td>\n",
       "      <td>1431.0</td>\n",
       "      <td>4956</td>\n",
       "      <td>1337.0</td>\n",
       "    </tr>\n",
       "    <tr>\n",
       "      <th>ENCSR838WFC_1_1</th>\n",
       "      <td>2137168</td>\n",
       "      <td>1567.0</td>\n",
       "      <td>2167</td>\n",
       "      <td>72.0</td>\n",
       "    </tr>\n",
       "    <tr>\n",
       "      <th>...</th>\n",
       "      <td>...</td>\n",
       "      <td>...</td>\n",
       "      <td>...</td>\n",
       "      <td>...</td>\n",
       "    </tr>\n",
       "    <tr>\n",
       "      <th>ENCSR463IDK_1_1</th>\n",
       "      <td>2255491</td>\n",
       "      <td>1426.0</td>\n",
       "      <td>32282</td>\n",
       "      <td>888.0</td>\n",
       "    </tr>\n",
       "    <tr>\n",
       "      <th>ENCSR316ZTD_1_1</th>\n",
       "      <td>2796483</td>\n",
       "      <td>1467.0</td>\n",
       "      <td>64029</td>\n",
       "      <td>1162.0</td>\n",
       "    </tr>\n",
       "    <tr>\n",
       "      <th>ENCSR462COR_1_1</th>\n",
       "      <td>3152341</td>\n",
       "      <td>1176.0</td>\n",
       "      <td>137959</td>\n",
       "      <td>1301.0</td>\n",
       "    </tr>\n",
       "    <tr>\n",
       "      <th>ENCSR257YUB_1_1</th>\n",
       "      <td>2904443</td>\n",
       "      <td>1496.0</td>\n",
       "      <td>44382</td>\n",
       "      <td>1084.0</td>\n",
       "    </tr>\n",
       "    <tr>\n",
       "      <th>ENCSR690QHM_1_1</th>\n",
       "      <td>2471748</td>\n",
       "      <td>1279.0</td>\n",
       "      <td>60594</td>\n",
       "      <td>899.0</td>\n",
       "    </tr>\n",
       "  </tbody>\n",
       "</table>\n",
       "<p>138 rows × 4 columns</p>\n",
       "</div>"
      ],
      "text/plain": [
       "                 raw_reads  read_len_median  unaligned_reads  query_len_median\n",
       "ENCSR293MOX_1_1     690170            912.0             7030             533.0\n",
       "ENCSR081NRO_1_1     856966           1240.0             2026             576.0\n",
       "ENCSR257JBF_1_1     722117           1404.0             7019             992.0\n",
       "ENCSR257JBF_1_2     775345           1431.0             4956            1337.0\n",
       "ENCSR838WFC_1_1    2137168           1567.0             2167              72.0\n",
       "...                    ...              ...              ...               ...\n",
       "ENCSR463IDK_1_1    2255491           1426.0            32282             888.0\n",
       "ENCSR316ZTD_1_1    2796483           1467.0            64029            1162.0\n",
       "ENCSR462COR_1_1    3152341           1176.0           137959            1301.0\n",
       "ENCSR257YUB_1_1    2904443           1496.0            44382            1084.0\n",
       "ENCSR690QHM_1_1    2471748           1279.0            60594             899.0\n",
       "\n",
       "[138 rows x 4 columns]"
      ]
     },
     "execution_count": 10,
     "metadata": {},
     "output_type": "execute_result"
    }
   ],
   "source": [
    "various_counts = pandas.DataFrame(medians)\n",
    "various_counts"
   ]
  },
  {
   "cell_type": "code",
   "execution_count": 11,
   "id": "loved-soldier",
   "metadata": {},
   "outputs": [],
   "source": [
    "various_counts.to_csv(\"unaligned_summary_counts.tsv\", sep=\"\\t\")"
   ]
  },
  {
   "cell_type": "markdown",
   "id": "packed-touch",
   "metadata": {},
   "source": [
    "# Raw versus Aligned read count\n",
    "\n",
    "Plot number of raw reads versus number of aligned reads. Each dot is an individual library."
   ]
  },
  {
   "cell_type": "code",
   "execution_count": 12,
   "id": "regulated-jersey",
   "metadata": {},
   "outputs": [
    {
     "data": {
      "image/png": "[encoded data removed]",
      "text/plain": [
       "<Figure size 432x288 with 1 Axes>"
      ]
     },
     "metadata": {
      "needs_background": "light"
     },
     "output_type": "display_data"
    }
   ],
   "source": [
    "f = pyplot.figure()\n",
    "ax = f.add_subplot(1,1,1)\n",
    "various_counts.plot.scatter(x=\"raw_reads\", y=\"unaligned_reads\", ax=ax)\n",
    "xmin, xmax = ax.get_xlim()\n",
    "ymin, ymax = ax.get_ylim()\n",
    "_ = ax.plot([0,xmax], [0,ymax], color='k')"
   ]
  },
  {
   "cell_type": "markdown",
   "id": "formal-bronze",
   "metadata": {},
   "source": [
    "# Median raw reads versus query length\n",
    "\n",
    "Plot median raw read length versus the query sequence length of reads that were aligned successfully."
   ]
  },
  {
   "cell_type": "code",
   "execution_count": 13,
   "id": "flexible-ordering",
   "metadata": {},
   "outputs": [
    {
     "data": {
      "image/png": "[encoded data removed]",
      "text/plain": [
       "<Figure size 432x288 with 1 Axes>"
      ]
     },
     "metadata": {
      "needs_background": "light"
     },
     "output_type": "display_data"
    }
   ],
   "source": [
    "f = pyplot.figure()\n",
    "ax = f.add_subplot(1,1,1)\n",
    "various_counts.plot.scatter(x=\"read_len_median\", y=\"query_len_median\", ax=ax)\n",
    "xmin, xmax = ax.get_xlim()\n",
    "ymin, ymax = ax.get_ylim()\n",
    "_ = ax.plot([0,xmax], [0,ymax], color='k')"
   ]
  },
  {
   "cell_type": "markdown",
   "id": "endangered-advancement",
   "metadata": {},
   "source": [
    "# Median raw reads versus just the aligned part of aligned reads\n",
    "\n",
    "Plot the median raw read length versus median length of positions of the read aligned to the reference genome. (This should be shorter than query length because sometimes some of the read is primers or other junk that doesn't get aligned, or there's something in our sample that's not in the reference.)"
   ]
  },
  {
   "cell_type": "code",
   "execution_count": 14,
   "id": "favorite-trainer",
   "metadata": {},
   "outputs": [
    {
     "ename": "KeyError",
     "evalue": "'positions_median'",
     "output_type": "error",
     "traceback": [
      "\u001b[0;31m---------------------------------------------------------------------------\u001b[0m",
      "\u001b[0;31mKeyError\u001b[0m                                  Traceback (most recent call last)",
      "\u001b[0;32m/usr/lib/python3/dist-packages/pandas/core/indexes/base.py\u001b[0m in \u001b[0;36mget_loc\u001b[0;34m(self, key, method, tolerance)\u001b[0m\n\u001b[1;32m   2897\u001b[0m             \u001b[0;32mtry\u001b[0m\u001b[0;34m:\u001b[0m\u001b[0;34m\u001b[0m\u001b[0;34m\u001b[0m\u001b[0m\n\u001b[0;32m-> 2898\u001b[0;31m                 \u001b[0;32mreturn\u001b[0m \u001b[0mself\u001b[0m\u001b[0;34m.\u001b[0m\u001b[0m_engine\u001b[0m\u001b[0;34m.\u001b[0m\u001b[0mget_loc\u001b[0m\u001b[0;34m(\u001b[0m\u001b[0mcasted_key\u001b[0m\u001b[0;34m)\u001b[0m\u001b[0;34m\u001b[0m\u001b[0;34m\u001b[0m\u001b[0m\n\u001b[0m\u001b[1;32m   2899\u001b[0m             \u001b[0;32mexcept\u001b[0m \u001b[0mKeyError\u001b[0m \u001b[0;32mas\u001b[0m \u001b[0merr\u001b[0m\u001b[0;34m:\u001b[0m\u001b[0;34m\u001b[0m\u001b[0;34m\u001b[0m\u001b[0m\n",
      "\u001b[0;32mpandas/_libs/index.pyx\u001b[0m in \u001b[0;36mpandas._libs.index.IndexEngine.get_loc\u001b[0;34m()\u001b[0m\n",
      "\u001b[0;32mpandas/_libs/index.pyx\u001b[0m in \u001b[0;36mpandas._libs.index.IndexEngine.get_loc\u001b[0;34m()\u001b[0m\n",
      "\u001b[0;32mpandas/_libs/hashtable_class_helper.pxi\u001b[0m in \u001b[0;36mpandas._libs.hashtable.PyObjectHashTable.get_item\u001b[0;34m()\u001b[0m\n",
      "\u001b[0;32mpandas/_libs/hashtable_class_helper.pxi\u001b[0m in \u001b[0;36mpandas._libs.hashtable.PyObjectHashTable.get_item\u001b[0;34m()\u001b[0m\n",
      "\u001b[0;31mKeyError\u001b[0m: 'positions_median'",
      "\nThe above exception was the direct cause of the following exception:\n",
      "\u001b[0;31mKeyError\u001b[0m                                  Traceback (most recent call last)",
      "\u001b[0;32m<ipython-input-14-928e1ec59170>\u001b[0m in \u001b[0;36m<module>\u001b[0;34m\u001b[0m\n\u001b[1;32m      1\u001b[0m \u001b[0mf\u001b[0m \u001b[0;34m=\u001b[0m \u001b[0mpyplot\u001b[0m\u001b[0;34m.\u001b[0m\u001b[0mfigure\u001b[0m\u001b[0;34m(\u001b[0m\u001b[0;34m)\u001b[0m\u001b[0;34m\u001b[0m\u001b[0;34m\u001b[0m\u001b[0m\n\u001b[1;32m      2\u001b[0m \u001b[0max\u001b[0m \u001b[0;34m=\u001b[0m \u001b[0mf\u001b[0m\u001b[0;34m.\u001b[0m\u001b[0madd_subplot\u001b[0m\u001b[0;34m(\u001b[0m\u001b[0;36m1\u001b[0m\u001b[0;34m,\u001b[0m\u001b[0;36m1\u001b[0m\u001b[0;34m,\u001b[0m\u001b[0;36m1\u001b[0m\u001b[0;34m)\u001b[0m\u001b[0;34m\u001b[0m\u001b[0;34m\u001b[0m\u001b[0m\n\u001b[0;32m----> 3\u001b[0;31m \u001b[0mvarious_counts\u001b[0m\u001b[0;34m.\u001b[0m\u001b[0mplot\u001b[0m\u001b[0;34m.\u001b[0m\u001b[0mscatter\u001b[0m\u001b[0;34m(\u001b[0m\u001b[0mx\u001b[0m\u001b[0;34m=\u001b[0m\u001b[0;34m\"read_len_median\"\u001b[0m\u001b[0;34m,\u001b[0m \u001b[0my\u001b[0m\u001b[0;34m=\u001b[0m\u001b[0;34m\"positions_median\"\u001b[0m\u001b[0;34m,\u001b[0m \u001b[0max\u001b[0m\u001b[0;34m=\u001b[0m\u001b[0max\u001b[0m\u001b[0;34m)\u001b[0m\u001b[0;34m\u001b[0m\u001b[0;34m\u001b[0m\u001b[0m\n\u001b[0m\u001b[1;32m      4\u001b[0m \u001b[0mxmin\u001b[0m\u001b[0;34m,\u001b[0m \u001b[0mxmax\u001b[0m \u001b[0;34m=\u001b[0m \u001b[0max\u001b[0m\u001b[0;34m.\u001b[0m\u001b[0mget_xlim\u001b[0m\u001b[0;34m(\u001b[0m\u001b[0;34m)\u001b[0m\u001b[0;34m\u001b[0m\u001b[0;34m\u001b[0m\u001b[0m\n\u001b[1;32m      5\u001b[0m \u001b[0mymin\u001b[0m\u001b[0;34m,\u001b[0m \u001b[0mymax\u001b[0m \u001b[0;34m=\u001b[0m \u001b[0max\u001b[0m\u001b[0;34m.\u001b[0m\u001b[0mget_ylim\u001b[0m\u001b[0;34m(\u001b[0m\u001b[0;34m)\u001b[0m\u001b[0;34m\u001b[0m\u001b[0;34m\u001b[0m\u001b[0m\n",
      "\u001b[0;32m/usr/lib/python3/dist-packages/pandas/plotting/_core.py\u001b[0m in \u001b[0;36mscatter\u001b[0;34m(self, x, y, s, c, **kwargs)\u001b[0m\n\u001b[1;32m   1611\u001b[0m             ...                       colormap='viridis')\n\u001b[1;32m   1612\u001b[0m         \"\"\"\n\u001b[0;32m-> 1613\u001b[0;31m         \u001b[0;32mreturn\u001b[0m \u001b[0mself\u001b[0m\u001b[0;34m(\u001b[0m\u001b[0mkind\u001b[0m\u001b[0;34m=\u001b[0m\u001b[0;34m\"scatter\"\u001b[0m\u001b[0;34m,\u001b[0m \u001b[0mx\u001b[0m\u001b[0;34m=\u001b[0m\u001b[0mx\u001b[0m\u001b[0;34m,\u001b[0m \u001b[0my\u001b[0m\u001b[0;34m=\u001b[0m\u001b[0my\u001b[0m\u001b[0;34m,\u001b[0m \u001b[0ms\u001b[0m\u001b[0;34m=\u001b[0m\u001b[0ms\u001b[0m\u001b[0;34m,\u001b[0m \u001b[0mc\u001b[0m\u001b[0;34m=\u001b[0m\u001b[0mc\u001b[0m\u001b[0;34m,\u001b[0m \u001b[0;34m**\u001b[0m\u001b[0mkwargs\u001b[0m\u001b[0;34m)\u001b[0m\u001b[0;34m\u001b[0m\u001b[0;34m\u001b[0m\u001b[0m\n\u001b[0m\u001b[1;32m   1614\u001b[0m \u001b[0;34m\u001b[0m\u001b[0m\n\u001b[1;32m   1615\u001b[0m     \u001b[0;32mdef\u001b[0m \u001b[0mhexbin\u001b[0m\u001b[0;34m(\u001b[0m\u001b[0mself\u001b[0m\u001b[0;34m,\u001b[0m \u001b[0mx\u001b[0m\u001b[0;34m,\u001b[0m \u001b[0my\u001b[0m\u001b[0;34m,\u001b[0m \u001b[0mC\u001b[0m\u001b[0;34m=\u001b[0m\u001b[0;32mNone\u001b[0m\u001b[0;34m,\u001b[0m \u001b[0mreduce_C_function\u001b[0m\u001b[0;34m=\u001b[0m\u001b[0;32mNone\u001b[0m\u001b[0;34m,\u001b[0m \u001b[0mgridsize\u001b[0m\u001b[0;34m=\u001b[0m\u001b[0;32mNone\u001b[0m\u001b[0;34m,\u001b[0m \u001b[0;34m**\u001b[0m\u001b[0mkwargs\u001b[0m\u001b[0;34m)\u001b[0m\u001b[0;34m:\u001b[0m\u001b[0;34m\u001b[0m\u001b[0;34m\u001b[0m\u001b[0m\n",
      "\u001b[0;32m/usr/lib/python3/dist-packages/pandas/plotting/_core.py\u001b[0m in \u001b[0;36m__call__\u001b[0;34m(self, *args, **kwargs)\u001b[0m\n\u001b[1;32m    892\u001b[0m         \u001b[0;32mif\u001b[0m \u001b[0mkind\u001b[0m \u001b[0;32min\u001b[0m \u001b[0mself\u001b[0m\u001b[0;34m.\u001b[0m\u001b[0m_dataframe_kinds\u001b[0m\u001b[0;34m:\u001b[0m\u001b[0;34m\u001b[0m\u001b[0;34m\u001b[0m\u001b[0m\n\u001b[1;32m    893\u001b[0m             \u001b[0;32mif\u001b[0m \u001b[0misinstance\u001b[0m\u001b[0;34m(\u001b[0m\u001b[0mdata\u001b[0m\u001b[0;34m,\u001b[0m \u001b[0mABCDataFrame\u001b[0m\u001b[0;34m)\u001b[0m\u001b[0;34m:\u001b[0m\u001b[0;34m\u001b[0m\u001b[0;34m\u001b[0m\u001b[0m\n\u001b[0;32m--> 894\u001b[0;31m                 \u001b[0;32mreturn\u001b[0m \u001b[0mplot_backend\u001b[0m\u001b[0;34m.\u001b[0m\u001b[0mplot\u001b[0m\u001b[0;34m(\u001b[0m\u001b[0mdata\u001b[0m\u001b[0;34m,\u001b[0m \u001b[0mx\u001b[0m\u001b[0;34m=\u001b[0m\u001b[0mx\u001b[0m\u001b[0;34m,\u001b[0m \u001b[0my\u001b[0m\u001b[0;34m=\u001b[0m\u001b[0my\u001b[0m\u001b[0;34m,\u001b[0m \u001b[0mkind\u001b[0m\u001b[0;34m=\u001b[0m\u001b[0mkind\u001b[0m\u001b[0;34m,\u001b[0m \u001b[0;34m**\u001b[0m\u001b[0mkwargs\u001b[0m\u001b[0;34m)\u001b[0m\u001b[0;34m\u001b[0m\u001b[0;34m\u001b[0m\u001b[0m\n\u001b[0m\u001b[1;32m    895\u001b[0m             \u001b[0;32melse\u001b[0m\u001b[0;34m:\u001b[0m\u001b[0;34m\u001b[0m\u001b[0;34m\u001b[0m\u001b[0m\n\u001b[1;32m    896\u001b[0m                 \u001b[0;32mraise\u001b[0m \u001b[0mValueError\u001b[0m\u001b[0;34m(\u001b[0m\u001b[0;34mf\"plot kind {kind} can only be used for data frames\"\u001b[0m\u001b[0;34m)\u001b[0m\u001b[0;34m\u001b[0m\u001b[0;34m\u001b[0m\u001b[0m\n",
      "\u001b[0;32m/usr/lib/python3/dist-packages/pandas/plotting/_matplotlib/__init__.py\u001b[0m in \u001b[0;36mplot\u001b[0;34m(data, kind, **kwargs)\u001b[0m\n\u001b[1;32m     59\u001b[0m             \u001b[0mkwargs\u001b[0m\u001b[0;34m[\u001b[0m\u001b[0;34m\"ax\"\u001b[0m\u001b[0;34m]\u001b[0m \u001b[0;34m=\u001b[0m \u001b[0mgetattr\u001b[0m\u001b[0;34m(\u001b[0m\u001b[0max\u001b[0m\u001b[0;34m,\u001b[0m \u001b[0;34m\"left_ax\"\u001b[0m\u001b[0;34m,\u001b[0m \u001b[0max\u001b[0m\u001b[0;34m)\u001b[0m\u001b[0;34m\u001b[0m\u001b[0;34m\u001b[0m\u001b[0m\n\u001b[1;32m     60\u001b[0m     \u001b[0mplot_obj\u001b[0m \u001b[0;34m=\u001b[0m \u001b[0mPLOT_CLASSES\u001b[0m\u001b[0;34m[\u001b[0m\u001b[0mkind\u001b[0m\u001b[0;34m]\u001b[0m\u001b[0;34m(\u001b[0m\u001b[0mdata\u001b[0m\u001b[0;34m,\u001b[0m \u001b[0;34m**\u001b[0m\u001b[0mkwargs\u001b[0m\u001b[0;34m)\u001b[0m\u001b[0;34m\u001b[0m\u001b[0;34m\u001b[0m\u001b[0m\n\u001b[0;32m---> 61\u001b[0;31m     \u001b[0mplot_obj\u001b[0m\u001b[0;34m.\u001b[0m\u001b[0mgenerate\u001b[0m\u001b[0;34m(\u001b[0m\u001b[0;34m)\u001b[0m\u001b[0;34m\u001b[0m\u001b[0;34m\u001b[0m\u001b[0m\n\u001b[0m\u001b[1;32m     62\u001b[0m     \u001b[0mplot_obj\u001b[0m\u001b[0;34m.\u001b[0m\u001b[0mdraw\u001b[0m\u001b[0;34m(\u001b[0m\u001b[0;34m)\u001b[0m\u001b[0;34m\u001b[0m\u001b[0;34m\u001b[0m\u001b[0m\n\u001b[1;32m     63\u001b[0m     \u001b[0;32mreturn\u001b[0m \u001b[0mplot_obj\u001b[0m\u001b[0;34m.\u001b[0m\u001b[0mresult\u001b[0m\u001b[0;34m\u001b[0m\u001b[0;34m\u001b[0m\u001b[0m\n",
      "\u001b[0;32m/usr/lib/python3/dist-packages/pandas/plotting/_matplotlib/core.py\u001b[0m in \u001b[0;36mgenerate\u001b[0;34m(self)\u001b[0m\n\u001b[1;32m    269\u001b[0m         \u001b[0mself\u001b[0m\u001b[0;34m.\u001b[0m\u001b[0m_compute_plot_data\u001b[0m\u001b[0;34m(\u001b[0m\u001b[0;34m)\u001b[0m\u001b[0;34m\u001b[0m\u001b[0;34m\u001b[0m\u001b[0m\n\u001b[1;32m    270\u001b[0m         \u001b[0mself\u001b[0m\u001b[0;34m.\u001b[0m\u001b[0m_setup_subplots\u001b[0m\u001b[0;34m(\u001b[0m\u001b[0;34m)\u001b[0m\u001b[0;34m\u001b[0m\u001b[0;34m\u001b[0m\u001b[0m\n\u001b[0;32m--> 271\u001b[0;31m         \u001b[0mself\u001b[0m\u001b[0;34m.\u001b[0m\u001b[0m_make_plot\u001b[0m\u001b[0;34m(\u001b[0m\u001b[0;34m)\u001b[0m\u001b[0;34m\u001b[0m\u001b[0;34m\u001b[0m\u001b[0m\n\u001b[0m\u001b[1;32m    272\u001b[0m         \u001b[0mself\u001b[0m\u001b[0;34m.\u001b[0m\u001b[0m_add_table\u001b[0m\u001b[0;34m(\u001b[0m\u001b[0;34m)\u001b[0m\u001b[0;34m\u001b[0m\u001b[0;34m\u001b[0m\u001b[0m\n\u001b[1;32m    273\u001b[0m         \u001b[0mself\u001b[0m\u001b[0;34m.\u001b[0m\u001b[0m_make_legend\u001b[0m\u001b[0;34m(\u001b[0m\u001b[0;34m)\u001b[0m\u001b[0;34m\u001b[0m\u001b[0;34m\u001b[0m\u001b[0m\n",
      "\u001b[0;32m/usr/lib/python3/dist-packages/pandas/plotting/_matplotlib/core.py\u001b[0m in \u001b[0;36m_make_plot\u001b[0;34m(self)\u001b[0m\n\u001b[1;32m   1010\u001b[0m         scatter = ax.scatter(\n\u001b[1;32m   1011\u001b[0m             \u001b[0mdata\u001b[0m\u001b[0;34m[\u001b[0m\u001b[0mx\u001b[0m\u001b[0;34m]\u001b[0m\u001b[0;34m.\u001b[0m\u001b[0mvalues\u001b[0m\u001b[0;34m,\u001b[0m\u001b[0;34m\u001b[0m\u001b[0;34m\u001b[0m\u001b[0m\n\u001b[0;32m-> 1012\u001b[0;31m             \u001b[0mdata\u001b[0m\u001b[0;34m[\u001b[0m\u001b[0my\u001b[0m\u001b[0;34m]\u001b[0m\u001b[0;34m.\u001b[0m\u001b[0mvalues\u001b[0m\u001b[0;34m,\u001b[0m\u001b[0;34m\u001b[0m\u001b[0;34m\u001b[0m\u001b[0m\n\u001b[0m\u001b[1;32m   1013\u001b[0m             \u001b[0mc\u001b[0m\u001b[0;34m=\u001b[0m\u001b[0mc_values\u001b[0m\u001b[0;34m,\u001b[0m\u001b[0;34m\u001b[0m\u001b[0;34m\u001b[0m\u001b[0m\n\u001b[1;32m   1014\u001b[0m             \u001b[0mlabel\u001b[0m\u001b[0;34m=\u001b[0m\u001b[0mlabel\u001b[0m\u001b[0;34m,\u001b[0m\u001b[0;34m\u001b[0m\u001b[0;34m\u001b[0m\u001b[0m\n",
      "\u001b[0;32m/usr/lib/python3/dist-packages/pandas/core/frame.py\u001b[0m in \u001b[0;36m__getitem__\u001b[0;34m(self, key)\u001b[0m\n\u001b[1;32m   2904\u001b[0m             \u001b[0;32mif\u001b[0m \u001b[0mself\u001b[0m\u001b[0;34m.\u001b[0m\u001b[0mcolumns\u001b[0m\u001b[0;34m.\u001b[0m\u001b[0mnlevels\u001b[0m \u001b[0;34m>\u001b[0m \u001b[0;36m1\u001b[0m\u001b[0;34m:\u001b[0m\u001b[0;34m\u001b[0m\u001b[0;34m\u001b[0m\u001b[0m\n\u001b[1;32m   2905\u001b[0m                 \u001b[0;32mreturn\u001b[0m \u001b[0mself\u001b[0m\u001b[0;34m.\u001b[0m\u001b[0m_getitem_multilevel\u001b[0m\u001b[0;34m(\u001b[0m\u001b[0mkey\u001b[0m\u001b[0;34m)\u001b[0m\u001b[0;34m\u001b[0m\u001b[0;34m\u001b[0m\u001b[0m\n\u001b[0;32m-> 2906\u001b[0;31m             \u001b[0mindexer\u001b[0m \u001b[0;34m=\u001b[0m \u001b[0mself\u001b[0m\u001b[0;34m.\u001b[0m\u001b[0mcolumns\u001b[0m\u001b[0;34m.\u001b[0m\u001b[0mget_loc\u001b[0m\u001b[0;34m(\u001b[0m\u001b[0mkey\u001b[0m\u001b[0;34m)\u001b[0m\u001b[0;34m\u001b[0m\u001b[0;34m\u001b[0m\u001b[0m\n\u001b[0m\u001b[1;32m   2907\u001b[0m             \u001b[0;32mif\u001b[0m \u001b[0mis_integer\u001b[0m\u001b[0;34m(\u001b[0m\u001b[0mindexer\u001b[0m\u001b[0;34m)\u001b[0m\u001b[0;34m:\u001b[0m\u001b[0;34m\u001b[0m\u001b[0;34m\u001b[0m\u001b[0m\n\u001b[1;32m   2908\u001b[0m                 \u001b[0mindexer\u001b[0m \u001b[0;34m=\u001b[0m \u001b[0;34m[\u001b[0m\u001b[0mindexer\u001b[0m\u001b[0;34m]\u001b[0m\u001b[0;34m\u001b[0m\u001b[0;34m\u001b[0m\u001b[0m\n",
      "\u001b[0;32m/usr/lib/python3/dist-packages/pandas/core/indexes/base.py\u001b[0m in \u001b[0;36mget_loc\u001b[0;34m(self, key, method, tolerance)\u001b[0m\n\u001b[1;32m   2898\u001b[0m                 \u001b[0;32mreturn\u001b[0m \u001b[0mself\u001b[0m\u001b[0;34m.\u001b[0m\u001b[0m_engine\u001b[0m\u001b[0;34m.\u001b[0m\u001b[0mget_loc\u001b[0m\u001b[0;34m(\u001b[0m\u001b[0mcasted_key\u001b[0m\u001b[0;34m)\u001b[0m\u001b[0;34m\u001b[0m\u001b[0;34m\u001b[0m\u001b[0m\n\u001b[1;32m   2899\u001b[0m             \u001b[0;32mexcept\u001b[0m \u001b[0mKeyError\u001b[0m \u001b[0;32mas\u001b[0m \u001b[0merr\u001b[0m\u001b[0;34m:\u001b[0m\u001b[0;34m\u001b[0m\u001b[0;34m\u001b[0m\u001b[0m\n\u001b[0;32m-> 2900\u001b[0;31m                 \u001b[0;32mraise\u001b[0m \u001b[0mKeyError\u001b[0m\u001b[0;34m(\u001b[0m\u001b[0mkey\u001b[0m\u001b[0;34m)\u001b[0m \u001b[0;32mfrom\u001b[0m \u001b[0merr\u001b[0m\u001b[0;34m\u001b[0m\u001b[0;34m\u001b[0m\u001b[0m\n\u001b[0m\u001b[1;32m   2901\u001b[0m \u001b[0;34m\u001b[0m\u001b[0m\n\u001b[1;32m   2902\u001b[0m         \u001b[0;32mif\u001b[0m \u001b[0mtolerance\u001b[0m \u001b[0;32mis\u001b[0m \u001b[0;32mnot\u001b[0m \u001b[0;32mNone\u001b[0m\u001b[0;34m:\u001b[0m\u001b[0;34m\u001b[0m\u001b[0;34m\u001b[0m\u001b[0m\n",
      "\u001b[0;31mKeyError\u001b[0m: 'positions_median'"
     ]
    },
    {
     "data": {
      "image/png": "[encoded data removed]",
      "text/plain": [
       "<Figure size 432x288 with 1 Axes>"
      ]
     },
     "metadata": {
      "needs_background": "light"
     },
     "output_type": "display_data"
    }
   ],
   "source": [
    "f = pyplot.figure()\n",
    "ax = f.add_subplot(1,1,1)\n",
    "various_counts.plot.scatter(x=\"read_len_median\", y=\"positions_median\", ax=ax)\n",
    "xmin, xmax = ax.get_xlim()\n",
    "ymin, ymax = ax.get_ylim()\n",
    "_ = ax.plot([0,xmax], [0,ymax], color='k')"
   ]
  },
  {
   "cell_type": "code",
   "execution_count": null,
   "id": "resident-original",
   "metadata": {},
   "outputs": [],
   "source": []
  },
  {
   "cell_type": "code",
   "execution_count": null,
   "id": "pursuant-mistake",
   "metadata": {},
   "outputs": [],
   "source": []
  }
 ],
 "metadata": {
  "kernelspec": {
   "display_name": "Python 3",
   "language": "python",
   "name": "python3"
  },
  "language_info": {
   "codemirror_mode": {
    "name": "ipython",
    "version": 3
   },
   "file_extension": ".py",
   "mimetype": "text/x-python",
   "name": "python",
   "nbconvert_exporter": "python",
   "pygments_lexer": "ipython3",
   "version": "3.9.2"
  }
 },
 "nbformat": 4,
 "nbformat_minor": 5
}
