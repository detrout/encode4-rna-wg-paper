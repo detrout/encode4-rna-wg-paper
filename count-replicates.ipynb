{
 "cells": [
  {
   "cell_type": "markdown",
   "id": "alien-macintosh",
   "metadata": {},
   "source": [
    "# Introduction"
   ]
  },
  {
   "cell_type": "markdown",
   "id": "dress-stock",
   "metadata": {},
   "source": [
    "Now that we've downloaded the data can we generate the plots? Fairlie's looking for A, B, and the log2 aligned plot from \n",
    "\n",
    "<img src=\"panel-to-replicate.png\" width=\"60%\" />"
   ]
  },
  {
   "cell_type": "code",
   "execution_count": null,
   "id": "internal-temperature",
   "metadata": {},
   "outputs": [],
   "source": []
  },
  {
   "cell_type": "code",
   "execution_count": 1,
   "id": "weird-charles",
   "metadata": {},
   "outputs": [],
   "source": [
    "from Bio import SeqIO\n",
    "from matplotlib import pyplot\n",
    "import numpy\n",
    "from pathlib import Path\n",
    "import pandas\n",
    "import pysam\n",
    "from tqdm import tqdm\n",
    "from xopen import xopen"
   ]
  },
  {
   "cell_type": "code",
   "execution_count": 2,
   "id": "silent-weather",
   "metadata": {},
   "outputs": [],
   "source": [
    "experiments = pandas.read_csv(\"cached_experiments.tsv\", sep=\"\\t\")"
   ]
  },
  {
   "cell_type": "code",
   "execution_count": 3,
   "id": "ambient-benefit",
   "metadata": {},
   "outputs": [
    {
     "data": {
      "text/plain": [
       "'cache/ENCSR293MOX_1_1_ENCFF318SKH_reads.fastq.gz'"
      ]
     },
     "execution_count": 3,
     "metadata": {},
     "output_type": "execute_result"
    }
   ],
   "source": [
    "target = experiments.iloc[0][\"target\"]\n",
    "target"
   ]
  },
  {
   "cell_type": "code",
   "execution_count": 4,
   "id": "appreciated-classification",
   "metadata": {},
   "outputs": [],
   "source": [
    "def score_aligned_reads(filename):\n",
    "    with pysam.AlignmentFile(filename, \"rb\") as inbam:\n",
    "        aligned_reads = 0\n",
    "        aligned_query_len = []\n",
    "        aligned_positions = []\n",
    "\n",
    "        for read in inbam:\n",
    "            if not read.is_unmapped:\n",
    "                aligned_reads += 1\n",
    "                aligned_query_len.append(read.query_length)\n",
    "                aligned_positions.append(len(read.positions))\n",
    "\n",
    "        #aligned_query_len = numpy.asarray(aligned_query_len)\n",
    "        #aligned_positions = numpy.asarray(aligned_positions)\n",
    "        return {\n",
    "            \"aligned_reads\": len(aligned_query_len),\n",
    "            \"query_len_median\": numpy.median(aligned_query_len),\n",
    "            \"query_len\": aligned_query_len,\n",
    "            \"positions_median\": numpy.median(aligned_positions),\n",
    "            \"positions_len\": aligned_positions,\n",
    "        }\n",
    "\n",
    "#score_aligned_reads(target)"
   ]
  },
  {
   "cell_type": "code",
   "execution_count": 5,
   "id": "imposed-voluntary",
   "metadata": {},
   "outputs": [],
   "source": [
    "def score_fastq_reads(filename):\n",
    "    read_len = []\n",
    "    with xopen(filename, \"rt\") as instream:\n",
    "        for record in SeqIO.parse(instream, \"fastq\"):\n",
    "            read_len.append(len(record))\n",
    "    \n",
    "    return {\n",
    "        \"raw_reads\": len(read_len),\n",
    "        \"read_len_median\": numpy.median(read_len),\n",
    "        \"read_len\": read_len,\n",
    "    }\n",
    "\n",
    "#score_fastq_reads(\"cache/ENCSR293MOX_1_1_ENCFF318SKH_reads.fastq.gz\")\n"
   ]
  },
  {
   "cell_type": "code",
   "execution_count": 6,
   "id": "quality-mobile",
   "metadata": {},
   "outputs": [
    {
     "name": "stderr",
     "output_type": "stream",
     "text": [
      "100%|██████████| 276/276 [8:04:17<00:00, 105.28s/it]  \n"
     ]
    }
   ],
   "source": [
    "counts = {}\n",
    "for i, row in tqdm(experiments.iterrows(), total=experiments.shape[0]):\n",
    "    name = \"{}_{}\".format(row[\"experiment\"], row[\"tech_rep\"])\n",
    "    if row.output_type == \"unfiltered alignments\":\n",
    "        result = score_aligned_reads(row[\"target\"])\n",
    "    elif row.output_type == \"reads\":\n",
    "        result = score_fastq_reads(row[\"target\"])\n",
    "    else:\n",
    "        raise ValueError(\"Unrecognized output type {} in row {}\".format(row.output_type, i))\n",
    "\n",
    "    counts.setdefault(name, {}).update(result)"
   ]
  },
  {
   "cell_type": "code",
   "execution_count": 34,
   "id": "palestinian-bronze",
   "metadata": {},
   "outputs": [
    {
     "data": {
      "text/plain": [
       "dict_keys(['ENCSR293MOX_1_1', 'ENCSR081NRO_1_1', 'ENCSR257JBF_1_1', 'ENCSR257JBF_1_2', 'ENCSR838WFC_1_1', 'ENCSR838WFC_2_1', 'ENCSR902GAF_3_1', 'ENCSR902GAF_1_1', 'ENCSR902GAF_2_1', 'ENCSR181CES_1_1', 'ENCSR676IWT_1_1', 'ENCSR676IWT_1_2', 'ENCSR995WKW_1_1', 'ENCSR904KAT_1_1', 'ENCSR904KAT_2_1', 'ENCSR113MEY_1_1', 'ENCSR589FUJ_2_1', 'ENCSR589FUJ_1_1', 'ENCSR388RWE_1_1', 'ENCSR194YUY_1_1', 'ENCSR706ANY_1_1', 'ENCSR706ANY_2_1', 'ENCSR706ANY_3_1', 'ENCSR706ANY_4_1', 'ENCSR634AKC_1_1', 'ENCSR127HKN_1_1', 'ENCSR127HKN_2_1', 'ENCSR127HKN_3_1', 'ENCSR130CIK_1_1', 'ENCSR130CIK_2_1', 'ENCSR044ARQ_1_1', 'ENCSR044ARQ_2_1', 'ENCSR296PQZ_1_1', 'ENCSR296PQZ_2_1', 'ENCSR810XLL_1_1', 'ENCSR526TQU_1_1', 'ENCSR947JHA_1_1', 'ENCSR962BVU_1_1', 'ENCSR530BOC_1_1', 'ENCSR530BOC_2_1', 'ENCSR271KEJ_1_1', 'ENCSR271KEJ_2_1', 'ENCSR271KEJ_3_1', 'ENCSR887LTD_1_1', 'ENCSR887LTD_2_1', 'ENCSR983KDL_1_1', 'ENCSR983KDL_2_1', 'ENCSR148IIG_1_1', 'ENCSR148IIG_1_2', 'ENCSR834DQL_1_1', 'ENCSR834DQL_2_1', 'ENCSR056MYH_1_1', 'ENCSR056MYH_2_1', 'ENCSR071IHY_1_1', 'ENCSR071IHY_2_1', 'ENCSR507JOF_1_1', 'ENCSR507JOF_2_1', 'ENCSR507JOF_3_1', 'ENCSR435UUS_1_1', 'ENCSR563RLX_1_1', 'ENCSR803QWH_1_1', 'ENCSR549ELD_1_1', 'ENCSR432YKA_1_1', 'ENCSR261GOA_1_1', 'ENCSR700EBI_1_1', 'ENCSR470HYQ_1_1', 'ENCSR470HYQ_2_1', 'ENCSR470HYQ_3_1', 'ENCSR994YZY_1_1', 'ENCSR777CCI_1_1', 'ENCSR323XND_1_1', 'ENCSR803XXZ_1_1', 'ENCSR786FLO_1_1', 'ENCSR425HFS_1_1', 'ENCSR782LGT_1_1', 'ENCSR997RFW_1_1', 'ENCSR984OAE_1_1', 'ENCSR426KOP_1_1', 'ENCSR450GAR_1_1', 'ENCSR657HJW_1_1', 'ENCSR424QFN_1_1', 'ENCSR096QUP_1_1', 'ENCSR553SVP_1_1', 'ENCSR514YQN_1_1', 'ENCSR575LWI_1_1', 'ENCSR477HHG_1_1', 'ENCSR899GAP_1_1', 'ENCSR138TAS_1_1', 'ENCSR507WZC_1_1', 'ENCSR746ITG_1_1', 'ENCSR728TXV_1_1', 'ENCSR853YZN_1_1', 'ENCSR648QZP_1_1', 'ENCSR243DYK_1_1', 'ENCSR986WKB_1_1', 'ENCSR700XDQ_1_1', 'ENCSR591OZR_1_1', 'ENCSR587WPR_1_1', 'ENCSR329ZQG_1_1', 'ENCSR998KIZ_1_1', 'ENCSR998KIZ_2_1', 'ENCSR687RWI_1_1', 'ENCSR687RWI_2_1', 'ENCSR583KCB_1_1', 'ENCSR583KCB_2_1', 'ENCSR989ZYL_1_1', 'ENCSR989ZYL_2_1', 'ENCSR930GRQ_1_1', 'ENCSR930GRQ_2_1', 'ENCSR583KAF_1_1', 'ENCSR583KAF_2_1', 'ENCSR398SKD_1_1', 'ENCSR398SKD_2_1', 'ENCSR580IDG_1_1', 'ENCSR580IDG_2_1', 'ENCSR278ZPI_1_1', 'ENCSR278ZPI_2_1', 'ENCSR813UIT_1_1', 'ENCSR813UIT_2_1', 'ENCSR700SUP_1_1', 'ENCSR700SUP_2_1', 'ENCSR916JDV_1_1', 'ENCSR916JDV_2_1', 'ENCSR546DFO_1_1', 'ENCSR546DFO_2_1', 'ENCSR121FDE_1_1', 'ENCSR121FDE_2_1', 'ENCSR159ICU_1_1', 'ENCSR159ICU_2_1', 'ENCSR697ASE_1_1', 'ENCSR205QMF_1_1', 'ENCSR169YNI_1_1', 'ENCSR094NFM_1_1', 'ENCSR463IDK_1_1', 'ENCSR316ZTD_1_1', 'ENCSR462COR_1_1', 'ENCSR257YUB_1_1', 'ENCSR690QHM_1_1'])"
      ]
     },
     "execution_count": 34,
     "metadata": {},
     "output_type": "execute_result"
    }
   ],
   "source": [
    "counts.keys()"
   ]
  },
  {
   "cell_type": "code",
   "execution_count": 35,
   "id": "owned-major",
   "metadata": {},
   "outputs": [
    {
     "data": {
      "text/plain": [
       "dict_keys(['raw_reads', 'read_len_median', 'read_len', 'aligned_reads', 'query_len_median', 'query_len', 'positions_median', 'positions_len'])"
      ]
     },
     "execution_count": 35,
     "metadata": {},
     "output_type": "execute_result"
    }
   ],
   "source": [
    "counts[\"ENCSR293MOX_1_1\"].keys()"
   ]
  },
  {
   "cell_type": "code",
   "execution_count": 38,
   "id": "partial-logan",
   "metadata": {},
   "outputs": [],
   "source": [
    "array_attributes = [\"read_len\", \"query_len\", \"positions_len\"]\n",
    "lengths = {}\n",
    "\n",
    "medians = {}\n",
    "for name in counts:\n",
    "    for k in counts[name]:\n",
    "        if k in array_attributes:\n",
    "            lengths[(k, name)] = counts[name][k]\n",
    "        else:\n",
    "            medians.setdefault(k, {})[name] = counts[name][k]\n",
    "\n",
    "#various_counts = pandas.DataFrame({k: count[k] for k in count if k not in array_attributes}).T"
   ]
  },
  {
   "cell_type": "markdown",
   "id": "similar-daily",
   "metadata": {},
   "source": [
    "Table of just has the counts, and not the list of every read"
   ]
  },
  {
   "cell_type": "code",
   "execution_count": 12,
   "id": "unnecessary-gospel",
   "metadata": {},
   "outputs": [
    {
     "data": {
      "text/html": [
       "<div>\n",
       "<style scoped>\n",
       "    .dataframe tbody tr th:only-of-type {\n",
       "        vertical-align: middle;\n",
       "    }\n",
       "\n",
       "    .dataframe tbody tr th {\n",
       "        vertical-align: top;\n",
       "    }\n",
       "\n",
       "    .dataframe thead th {\n",
       "        text-align: right;\n",
       "    }\n",
       "</style>\n",
       "<table border=\"1\" class=\"dataframe\">\n",
       "  <thead>\n",
       "    <tr style=\"text-align: right;\">\n",
       "      <th></th>\n",
       "      <th>raw_reads</th>\n",
       "      <th>read_len_median</th>\n",
       "      <th>aligned_reads</th>\n",
       "      <th>query_len_median</th>\n",
       "      <th>positions_median</th>\n",
       "    </tr>\n",
       "  </thead>\n",
       "  <tbody>\n",
       "    <tr>\n",
       "      <th>ENCSR293MOX_1_1</th>\n",
       "      <td>690170</td>\n",
       "      <td>912.0</td>\n",
       "      <td>727693</td>\n",
       "      <td>915.0</td>\n",
       "      <td>891.0</td>\n",
       "    </tr>\n",
       "    <tr>\n",
       "      <th>ENCSR081NRO_1_1</th>\n",
       "      <td>856966</td>\n",
       "      <td>1240.0</td>\n",
       "      <td>916397</td>\n",
       "      <td>1237.0</td>\n",
       "      <td>1168.0</td>\n",
       "    </tr>\n",
       "    <tr>\n",
       "      <th>ENCSR257JBF_1_1</th>\n",
       "      <td>722117</td>\n",
       "      <td>1404.0</td>\n",
       "      <td>766001</td>\n",
       "      <td>1404.0</td>\n",
       "      <td>1337.0</td>\n",
       "    </tr>\n",
       "    <tr>\n",
       "      <th>ENCSR257JBF_1_2</th>\n",
       "      <td>775345</td>\n",
       "      <td>1431.0</td>\n",
       "      <td>824096</td>\n",
       "      <td>1434.0</td>\n",
       "      <td>1393.0</td>\n",
       "    </tr>\n",
       "    <tr>\n",
       "      <th>ENCSR838WFC_1_1</th>\n",
       "      <td>2137168</td>\n",
       "      <td>1567.0</td>\n",
       "      <td>2148933</td>\n",
       "      <td>1561.0</td>\n",
       "      <td>1551.0</td>\n",
       "    </tr>\n",
       "    <tr>\n",
       "      <th>...</th>\n",
       "      <td>...</td>\n",
       "      <td>...</td>\n",
       "      <td>...</td>\n",
       "      <td>...</td>\n",
       "      <td>...</td>\n",
       "    </tr>\n",
       "    <tr>\n",
       "      <th>ENCSR463IDK_1_1</th>\n",
       "      <td>2255491</td>\n",
       "      <td>1426.0</td>\n",
       "      <td>2301028</td>\n",
       "      <td>1390.0</td>\n",
       "      <td>1364.0</td>\n",
       "    </tr>\n",
       "    <tr>\n",
       "      <th>ENCSR316ZTD_1_1</th>\n",
       "      <td>2796483</td>\n",
       "      <td>1467.0</td>\n",
       "      <td>2827850</td>\n",
       "      <td>1427.0</td>\n",
       "      <td>1410.0</td>\n",
       "    </tr>\n",
       "    <tr>\n",
       "      <th>ENCSR462COR_1_1</th>\n",
       "      <td>3152341</td>\n",
       "      <td>1176.0</td>\n",
       "      <td>3075099</td>\n",
       "      <td>1142.0</td>\n",
       "      <td>1129.0</td>\n",
       "    </tr>\n",
       "    <tr>\n",
       "      <th>ENCSR257YUB_1_1</th>\n",
       "      <td>2904443</td>\n",
       "      <td>1496.0</td>\n",
       "      <td>2961851</td>\n",
       "      <td>1453.0</td>\n",
       "      <td>1432.0</td>\n",
       "    </tr>\n",
       "    <tr>\n",
       "      <th>ENCSR690QHM_1_1</th>\n",
       "      <td>2471748</td>\n",
       "      <td>1279.0</td>\n",
       "      <td>2496894</td>\n",
       "      <td>1237.0</td>\n",
       "      <td>1214.0</td>\n",
       "    </tr>\n",
       "  </tbody>\n",
       "</table>\n",
       "<p>138 rows × 5 columns</p>\n",
       "</div>"
      ],
      "text/plain": [
       "                 raw_reads  read_len_median  aligned_reads  query_len_median  \\\n",
       "ENCSR293MOX_1_1     690170            912.0         727693             915.0   \n",
       "ENCSR081NRO_1_1     856966           1240.0         916397            1237.0   \n",
       "ENCSR257JBF_1_1     722117           1404.0         766001            1404.0   \n",
       "ENCSR257JBF_1_2     775345           1431.0         824096            1434.0   \n",
       "ENCSR838WFC_1_1    2137168           1567.0        2148933            1561.0   \n",
       "...                    ...              ...            ...               ...   \n",
       "ENCSR463IDK_1_1    2255491           1426.0        2301028            1390.0   \n",
       "ENCSR316ZTD_1_1    2796483           1467.0        2827850            1427.0   \n",
       "ENCSR462COR_1_1    3152341           1176.0        3075099            1142.0   \n",
       "ENCSR257YUB_1_1    2904443           1496.0        2961851            1453.0   \n",
       "ENCSR690QHM_1_1    2471748           1279.0        2496894            1237.0   \n",
       "\n",
       "                 positions_median  \n",
       "ENCSR293MOX_1_1             891.0  \n",
       "ENCSR081NRO_1_1            1168.0  \n",
       "ENCSR257JBF_1_1            1337.0  \n",
       "ENCSR257JBF_1_2            1393.0  \n",
       "ENCSR838WFC_1_1            1551.0  \n",
       "...                           ...  \n",
       "ENCSR463IDK_1_1            1364.0  \n",
       "ENCSR316ZTD_1_1            1410.0  \n",
       "ENCSR462COR_1_1            1129.0  \n",
       "ENCSR257YUB_1_1            1432.0  \n",
       "ENCSR690QHM_1_1            1214.0  \n",
       "\n",
       "[138 rows x 5 columns]"
      ]
     },
     "execution_count": 12,
     "metadata": {},
     "output_type": "execute_result"
    }
   ],
   "source": [
    "various_counts = pandas.DataFrame(medians)\n",
    "various_counts"
   ]
  },
  {
   "cell_type": "code",
   "execution_count": 47,
   "id": "loved-soldier",
   "metadata": {},
   "outputs": [],
   "source": [
    "various_counts.to_csv(\"all_summary_counts.tsv\", sep=\"\\t\")"
   ]
  },
  {
   "cell_type": "markdown",
   "id": "packed-touch",
   "metadata": {},
   "source": [
    "# Raw versus Aligned read count\n",
    "\n",
    "Plot number of raw reads versus number of aligned reads. Each dot is an individual library."
   ]
  },
  {
   "cell_type": "code",
   "execution_count": 22,
   "id": "regulated-jersey",
   "metadata": {},
   "outputs": [
    {
     "data": {
      "image/png": "[encoded data removed]",
      "text/plain": [
       "<Figure size 432x288 with 1 Axes>"
      ]
     },
     "metadata": {
      "needs_background": "light"
     },
     "output_type": "display_data"
    }
   ],
   "source": [
    "f = pyplot.figure()\n",
    "ax = f.add_subplot(1,1,1)\n",
    "various_counts.plot.scatter(x=\"raw_reads\", y=\"aligned_reads\", ax=ax)\n",
    "xmin, xmax = ax.get_xlim()\n",
    "ymin, ymax = ax.get_ylim()\n",
    "_ = ax.plot([0,xmax], [0,ymax], color='k')"
   ]
  },
  {
   "cell_type": "markdown",
   "id": "formal-bronze",
   "metadata": {},
   "source": [
    "# Median raw reads versus query length\n",
    "\n",
    "Plot median raw read length versus the query sequence length of reads that were aligned successfully."
   ]
  },
  {
   "cell_type": "code",
   "execution_count": 23,
   "id": "flexible-ordering",
   "metadata": {},
   "outputs": [
    {
     "data": {
      "image/png": "[encoded data removed]",
      "text/plain": [
       "<Figure size 432x288 with 1 Axes>"
      ]
     },
     "metadata": {
      "needs_background": "light"
     },
     "output_type": "display_data"
    }
   ],
   "source": [
    "f = pyplot.figure()\n",
    "ax = f.add_subplot(1,1,1)\n",
    "various_counts.plot.scatter(x=\"read_len_median\", y=\"query_len_median\", ax=ax)\n",
    "xmin, xmax = ax.get_xlim()\n",
    "ymin, ymax = ax.get_ylim()\n",
    "_ = ax.plot([0,xmax], [0,ymax], color='k')"
   ]
  },
  {
   "cell_type": "markdown",
   "id": "endangered-advancement",
   "metadata": {},
   "source": [
    "# Median raw reads versus just the aligned part of aligned reads\n",
    "\n",
    "Plot the median raw read length versus median length of positions of the read aligned to the reference genome. (This should be shorter than query length because sometimes some of the read is primers or other junk that doesn't get aligned, or there's something in our sample that's not in the reference.)"
   ]
  },
  {
   "cell_type": "code",
   "execution_count": 24,
   "id": "favorite-trainer",
   "metadata": {},
   "outputs": [
    {
     "data": {
      "image/png": "[encoded data removed]",
      "text/plain": [
       "<Figure size 432x288 with 1 Axes>"
      ]
     },
     "metadata": {
      "needs_background": "light"
     },
     "output_type": "display_data"
    }
   ],
   "source": [
    "f = pyplot.figure()\n",
    "ax = f.add_subplot(1,1,1)\n",
    "various_counts.plot.scatter(x=\"read_len_median\", y=\"positions_median\", ax=ax)\n",
    "xmin, xmax = ax.get_xlim()\n",
    "ymin, ymax = ax.get_ylim()\n",
    "_ = ax.plot([0,xmax], [0,ymax], color='k')"
   ]
  },
  {
   "cell_type": "code",
   "execution_count": null,
   "id": "resident-original",
   "metadata": {},
   "outputs": [],
   "source": []
  },
  {
   "cell_type": "code",
   "execution_count": 57,
   "id": "geological-algeria",
   "metadata": {},
   "outputs": [
    {
     "name": "stderr",
     "output_type": "stream",
     "text": [
      "100%|██████████| 414/414 [00:21<00:00, 18.90it/s]\n"
     ]
    }
   ],
   "source": [
    "def get_positions(lengths):\n",
    "    for key in tqdm(lengths):\n",
    "        if key[0] == \"positions_len\":\n",
    "            yield from lengths[key]\n",
    "            \n",
    "all_positions_len = pandas.Series(get_positions(lengths))\n",
    "all_positions_len = numpy.log2(all_positions_len)\n",
    "        "
   ]
  },
  {
   "cell_type": "markdown",
   "id": "inside-certification",
   "metadata": {},
   "source": [
    "# Plot KDE of positions aligned to genome\n",
    "\n",
    "(So very slow)"
   ]
  },
  {
   "cell_type": "code",
   "execution_count": 58,
   "id": "efficient-damage",
   "metadata": {},
   "outputs": [
    {
     "data": {
      "text/plain": [
       "<AxesSubplot:ylabel='Density'>"
      ]
     },
     "execution_count": 58,
     "metadata": {},
     "output_type": "execute_result"
    },
    {
     "data": {
      "image/png": "[encoded data removed]",
      "text/plain": [
       "<Figure size 432x288 with 1 Axes>"
      ]
     },
     "metadata": {
      "needs_background": "light"
     },
     "output_type": "display_data"
    }
   ],
   "source": [
    "all_positions_len.plot.kde()"
   ]
  },
  {
   "cell_type": "markdown",
   "id": "vertical-africa",
   "metadata": {},
   "source": [
    "# Dump the collection of every read length to a compressed tsv file.\n",
    "\n",
    "format is:\n",
    "\n",
    "- type of lengths\n",
    "- experiment id_replicates\n",
    "- number of records in list\n",
    "- comma separated list of lengths.\n",
    "\n",
    "This is not a data frame because the different files have different number of records."
   ]
  },
  {
   "cell_type": "code",
   "execution_count": 50,
   "id": "surprised-dairy",
   "metadata": {},
   "outputs": [
    {
     "name": "stderr",
     "output_type": "stream",
     "text": [
      "100%|██████████| 414/414 [04:47<00:00,  1.44it/s]\n"
     ]
    }
   ],
   "source": [
    "with xopen(\"all_read_lengths.tsv.gz\", \"wt\") as outstream:\n",
    "    outstream.write(\"\\t\".join([\"name\", \"experiment_id\", \"N\", \"values\"]))\n",
    "    outstream.write(\"\\n\")\n",
    "    for key in tqdm(lengths):\n",
    "        outstream.write(\"\\t\".join(key))\n",
    "        outstream.write(\"\\t\")\n",
    "        outstream.write(\"{}\".format(len(lengths[key])))\n",
    "        outstream.write(\"\\t\")\n",
    "        outstream.write(\",\".join((str(x) for x in lengths[key])))\n",
    "        outstream.write(\"\\n\")\n"
   ]
  },
  {
   "cell_type": "code",
   "execution_count": null,
   "id": "pursuant-mistake",
   "metadata": {},
   "outputs": [],
   "source": []
  }
 ],
 "metadata": {
  "kernelspec": {
   "display_name": "Python 3",
   "language": "python",
   "name": "python3"
  },
  "language_info": {
   "codemirror_mode": {
    "name": "ipython",
    "version": 3
   },
   "file_extension": ".py",
   "mimetype": "text/x-python",
   "name": "python",
   "nbconvert_exporter": "python",
   "pygments_lexer": "ipython3",
   "version": "3.9.2"
  }
 },
 "nbformat": 4,
 "nbformat_minor": 5
}
